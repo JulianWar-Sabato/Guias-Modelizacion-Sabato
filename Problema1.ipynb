{
 "cells": [
  {
   "cell_type": "code",
   "execution_count": 2,
   "id": "786f3fd9-1e0e-4be9-ac26-4b21509a9b71",
   "metadata": {},
   "outputs": [],
   "source": [
    "import numpy as np"
   ]
  },
  {
   "cell_type": "code",
   "execution_count": 3,
   "id": "4b771ed9-f0f0-44db-b2c5-12b923e94440",
   "metadata": {},
   "outputs": [],
   "source": [
    "dim = 5\n",
    "v = np.random.rand(dim)*100"
   ]
  },
  {
   "cell_type": "code",
   "execution_count": 4,
   "id": "2d4f56f6-58b3-46ac-ab6a-516570c93524",
   "metadata": {},
   "outputs": [],
   "source": [
    "V= np.sort(v)"
   ]
  },
  {
   "cell_type": "code",
   "execution_count": 5,
   "id": "8c669d0b-7647-421b-b8bb-846c094cb5b2",
   "metadata": {},
   "outputs": [
    {
     "name": "stdout",
     "output_type": "stream",
     "text": [
      "[43.57032429 58.69524296 83.41530327 50.09513367 78.66367091]\n"
     ]
    }
   ],
   "source": [
    "print(v)"
   ]
  },
  {
   "cell_type": "code",
   "execution_count": 6,
   "id": "a733fc54-c6b0-407d-8e56-c26d0a8a7b35",
   "metadata": {},
   "outputs": [],
   "source": [
    "np.save('test.npy',V)"
   ]
  }
 ],
 "metadata": {
  "kernelspec": {
   "display_name": "Python [conda env:base] *",
   "language": "python",
   "name": "conda-base-py"
  },
  "language_info": {
   "codemirror_mode": {
    "name": "ipython",
    "version": 3
   },
   "file_extension": ".py",
   "mimetype": "text/x-python",
   "name": "python",
   "nbconvert_exporter": "python",
   "pygments_lexer": "ipython3",
   "version": "3.12.7"
  }
 },
 "nbformat": 4,
 "nbformat_minor": 5
}
